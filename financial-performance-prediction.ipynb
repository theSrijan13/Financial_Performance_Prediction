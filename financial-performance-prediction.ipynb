{
 "cells": [
  {
   "cell_type": "code",
   "execution_count": 1,
   "id": "34e3b018",
   "metadata": {
    "_cell_guid": "b1076dfc-b9ad-4769-8c92-a6c4dae69d19",
    "_uuid": "8f2839f25d086af736a60e9eeb907d3b93b6e0e5",
    "execution": {
     "iopub.execute_input": "2024-03-11T10:12:03.522129Z",
     "iopub.status.busy": "2024-03-11T10:12:03.521341Z",
     "iopub.status.idle": "2024-03-11T10:12:05.927733Z",
     "shell.execute_reply": "2024-03-11T10:12:05.926768Z"
    },
    "papermill": {
     "duration": 2.418406,
     "end_time": "2024-03-11T10:12:05.930012",
     "exception": false,
     "start_time": "2024-03-11T10:12:03.511606",
     "status": "completed"
    },
    "tags": []
   },
   "outputs": [
    {
     "name": "stdout",
     "output_type": "stream",
     "text": [
      "/kaggle/input/financial-performance-prediction/sample_submission.csv\n",
      "/kaggle/input/financial-performance-prediction/data_dictionary.txt\n",
      "/kaggle/input/financial-performance-prediction/train.csv\n",
      "/kaggle/input/financial-performance-prediction/test.csv\n"
     ]
    }
   ],
   "source": [
    "# This Python 3 environment comes with many helpful analytics libraries installed\n",
    "# It is defined by the kaggle/python Docker image: https://github.com/kaggle/docker-python\n",
    "# For example, here's several helpful packages to load\n",
    "\n",
    "import numpy as np # linear algebra\n",
    "import pandas as pd # data processing, CSV file I/O (e.g. pd.read_csv)\n",
    "import warnings\n",
    "warnings.simplefilter(action='ignore', category=FutureWarning)\n",
    "from sklearn.model_selection import cross_val_score as cvs\n",
    "from xgboost import XGBRegressor\n",
    "\n",
    "# Input data files are available in the read-only \"../input/\" directory\n",
    "# For example, running this (by clicking run or pressing Shift+Enter) will list all files under the input directory\n",
    "\n",
    "import os\n",
    "for dirname, _, filenames in os.walk('/kaggle/input'):\n",
    "    for filename in filenames:\n",
    "        print(os.path.join(dirname, filename))\n",
    "\n",
    "# You can write up to 20GB to the current directory (/kaggle/working/) that gets preserved as output when you create a version using \"Save & Run All\" \n",
    "# You can also write temporary files to /kaggle/temp/, but they won't be saved outside of the current session"
   ]
  },
  {
   "cell_type": "code",
   "execution_count": 2,
   "id": "ddb767ac",
   "metadata": {
    "execution": {
     "iopub.execute_input": "2024-03-11T10:12:05.947196Z",
     "iopub.status.busy": "2024-03-11T10:12:05.946336Z",
     "iopub.status.idle": "2024-03-11T10:12:06.108129Z",
     "shell.execute_reply": "2024-03-11T10:12:06.107003Z"
    },
    "papermill": {
     "duration": 0.172869,
     "end_time": "2024-03-11T10:12:06.110568",
     "exception": false,
     "start_time": "2024-03-11T10:12:05.937699",
     "status": "completed"
    },
    "tags": []
   },
   "outputs": [],
   "source": [
    "train = pd.read_csv('/kaggle/input/financial-performance-prediction/train.csv')\n",
    "test = pd.read_csv('/kaggle/input/financial-performance-prediction/test.csv')"
   ]
  },
  {
   "cell_type": "code",
   "execution_count": 3,
   "id": "4fcba050",
   "metadata": {
    "execution": {
     "iopub.execute_input": "2024-03-11T10:12:06.127282Z",
     "iopub.status.busy": "2024-03-11T10:12:06.126887Z",
     "iopub.status.idle": "2024-03-11T10:12:06.132122Z",
     "shell.execute_reply": "2024-03-11T10:12:06.131089Z"
    },
    "papermill": {
     "duration": 0.016748,
     "end_time": "2024-03-11T10:12:06.134922",
     "exception": false,
     "start_time": "2024-03-11T10:12:06.118174",
     "status": "completed"
    },
    "tags": []
   },
   "outputs": [
    {
     "name": "stdout",
     "output_type": "stream",
     "text": [
      "Train shape: (1624, 212)\n",
      "Test shape: (406, 203)\n"
     ]
    }
   ],
   "source": [
    "print(f'Train shape: {train.shape}')\n",
    "print(f'Test shape: {test.shape}')"
   ]
  },
  {
   "cell_type": "code",
   "execution_count": 4,
   "id": "982a2157",
   "metadata": {
    "execution": {
     "iopub.execute_input": "2024-03-11T10:12:06.152005Z",
     "iopub.status.busy": "2024-03-11T10:12:06.151229Z",
     "iopub.status.idle": "2024-03-11T10:12:06.159019Z",
     "shell.execute_reply": "2024-03-11T10:12:06.157797Z"
    },
    "papermill": {
     "duration": 0.018614,
     "end_time": "2024-03-11T10:12:06.161064",
     "exception": false,
     "start_time": "2024-03-11T10:12:06.142450",
     "status": "completed"
    },
    "tags": []
   },
   "outputs": [
    {
     "name": "stdout",
     "output_type": "stream",
     "text": [
      "Target columns: ['Q0_TOTAL_ASSETS', 'Q0_TOTAL_LIABILITIES', 'Q0_TOTAL_STOCKHOLDERS_EQUITY', 'Q0_GROSS_PROFIT', 'Q0_COST_OF_REVENUES', 'Q0_REVENUES', 'Q0_OPERATING_INCOME', 'Q0_OPERATING_EXPENSES', 'Q0_EBITDA']\n"
     ]
    }
   ],
   "source": [
    "targets_names = [col for col in train if col not in test]\n",
    "print(f'Target columns: {targets_names}')"
   ]
  },
  {
   "cell_type": "code",
   "execution_count": 5,
   "id": "e6764d2b",
   "metadata": {
    "execution": {
     "iopub.execute_input": "2024-03-11T10:12:06.177952Z",
     "iopub.status.busy": "2024-03-11T10:12:06.177551Z",
     "iopub.status.idle": "2024-03-11T10:12:06.191282Z",
     "shell.execute_reply": "2024-03-11T10:12:06.190293Z"
    },
    "papermill": {
     "duration": 0.024776,
     "end_time": "2024-03-11T10:12:06.193462",
     "exception": false,
     "start_time": "2024-03-11T10:12:06.168686",
     "status": "completed"
    },
    "tags": []
   },
   "outputs": [
    {
     "data": {
      "text/plain": [
       "float64    207\n",
       "object       4\n",
       "int64        1\n",
       "Name: count, dtype: int64"
      ]
     },
     "execution_count": 5,
     "metadata": {},
     "output_type": "execute_result"
    }
   ],
   "source": [
    "train.dtypes.value_counts()"
   ]
  },
  {
   "cell_type": "code",
   "execution_count": 6,
   "id": "f9d0f390",
   "metadata": {
    "execution": {
     "iopub.execute_input": "2024-03-11T10:12:06.210283Z",
     "iopub.status.busy": "2024-03-11T10:12:06.209908Z",
     "iopub.status.idle": "2024-03-11T10:12:06.217881Z",
     "shell.execute_reply": "2024-03-11T10:12:06.216842Z"
    },
    "papermill": {
     "duration": 0.019069,
     "end_time": "2024-03-11T10:12:06.220188",
     "exception": false,
     "start_time": "2024-03-11T10:12:06.201119",
     "status": "completed"
    },
    "tags": []
   },
   "outputs": [
    {
     "data": {
      "text/plain": [
       "float64    198\n",
       "object       4\n",
       "int64        1\n",
       "Name: count, dtype: int64"
      ]
     },
     "execution_count": 6,
     "metadata": {},
     "output_type": "execute_result"
    }
   ],
   "source": [
    "test.dtypes.value_counts()"
   ]
  },
  {
   "cell_type": "code",
   "execution_count": 7,
   "id": "81637a05",
   "metadata": {
    "execution": {
     "iopub.execute_input": "2024-03-11T10:12:06.239996Z",
     "iopub.status.busy": "2024-03-11T10:12:06.239021Z",
     "iopub.status.idle": "2024-03-11T10:12:06.255290Z",
     "shell.execute_reply": "2024-03-11T10:12:06.254205Z"
    },
    "papermill": {
     "duration": 0.029399,
     "end_time": "2024-03-11T10:12:06.257732",
     "exception": false,
     "start_time": "2024-03-11T10:12:06.228333",
     "status": "completed"
    },
    "tags": []
   },
   "outputs": [],
   "source": [
    "# make an easy col to split back the train and test sets\n",
    "train['is_train'] = True\n",
    "test['is_train'] = False\n",
    "df = pd.concat([train, test], axis = 0, ignore_index = True)"
   ]
  },
  {
   "cell_type": "code",
   "execution_count": 8,
   "id": "d771ab5c",
   "metadata": {
    "execution": {
     "iopub.execute_input": "2024-03-11T10:12:06.276106Z",
     "iopub.status.busy": "2024-03-11T10:12:06.275718Z",
     "iopub.status.idle": "2024-03-11T10:12:06.295526Z",
     "shell.execute_reply": "2024-03-11T10:12:06.294412Z"
    },
    "papermill": {
     "duration": 0.031447,
     "end_time": "2024-03-11T10:12:06.297985",
     "exception": false,
     "start_time": "2024-03-11T10:12:06.266538",
     "status": "completed"
    },
    "tags": []
   },
   "outputs": [
    {
     "data": {
      "text/html": [
       "<div>\n",
       "<style scoped>\n",
       "    .dataframe tbody tr th:only-of-type {\n",
       "        vertical-align: middle;\n",
       "    }\n",
       "\n",
       "    .dataframe tbody tr th {\n",
       "        vertical-align: top;\n",
       "    }\n",
       "\n",
       "    .dataframe thead th {\n",
       "        text-align: right;\n",
       "    }\n",
       "</style>\n",
       "<table border=\"1\" class=\"dataframe\">\n",
       "  <thead>\n",
       "    <tr style=\"text-align: right;\">\n",
       "      <th></th>\n",
       "      <th>industry</th>\n",
       "      <th>sector</th>\n",
       "      <th>recommendationKey</th>\n",
       "      <th>financialCurrency</th>\n",
       "    </tr>\n",
       "  </thead>\n",
       "  <tbody>\n",
       "    <tr>\n",
       "      <th>0</th>\n",
       "      <td>Personal Services</td>\n",
       "      <td>Consumer Cyclical</td>\n",
       "      <td>strong_buy</td>\n",
       "      <td>USD</td>\n",
       "    </tr>\n",
       "    <tr>\n",
       "      <th>1</th>\n",
       "      <td>Building Products &amp; Equipment</td>\n",
       "      <td>Industrials</td>\n",
       "      <td>buy</td>\n",
       "      <td>USD</td>\n",
       "    </tr>\n",
       "    <tr>\n",
       "      <th>2</th>\n",
       "      <td>NaN</td>\n",
       "      <td>Unknown</td>\n",
       "      <td>NaN</td>\n",
       "      <td>NaN</td>\n",
       "    </tr>\n",
       "    <tr>\n",
       "      <th>3</th>\n",
       "      <td>Scientific &amp; Technical Instruments</td>\n",
       "      <td>Technology</td>\n",
       "      <td>hold</td>\n",
       "      <td>USD</td>\n",
       "    </tr>\n",
       "    <tr>\n",
       "      <th>4</th>\n",
       "      <td>Drug Manufacturers - Specialty &amp; Generic</td>\n",
       "      <td>Healthcare</td>\n",
       "      <td>buy</td>\n",
       "      <td>USD</td>\n",
       "    </tr>\n",
       "    <tr>\n",
       "      <th>...</th>\n",
       "      <td>...</td>\n",
       "      <td>...</td>\n",
       "      <td>...</td>\n",
       "      <td>...</td>\n",
       "    </tr>\n",
       "    <tr>\n",
       "      <th>2025</th>\n",
       "      <td>Packaged Foods</td>\n",
       "      <td>Consumer Defensive</td>\n",
       "      <td>hold</td>\n",
       "      <td>USD</td>\n",
       "    </tr>\n",
       "    <tr>\n",
       "      <th>2026</th>\n",
       "      <td>NaN</td>\n",
       "      <td>Unknown</td>\n",
       "      <td>NaN</td>\n",
       "      <td>NaN</td>\n",
       "    </tr>\n",
       "    <tr>\n",
       "      <th>2027</th>\n",
       "      <td>Medical Devices</td>\n",
       "      <td>Healthcare</td>\n",
       "      <td>buy</td>\n",
       "      <td>USD</td>\n",
       "    </tr>\n",
       "    <tr>\n",
       "      <th>2028</th>\n",
       "      <td>Drug Manufacturers - Specialty &amp; Generic</td>\n",
       "      <td>Healthcare</td>\n",
       "      <td>buy</td>\n",
       "      <td>USD</td>\n",
       "    </tr>\n",
       "    <tr>\n",
       "      <th>2029</th>\n",
       "      <td>Specialty Chemicals</td>\n",
       "      <td>Basic Materials</td>\n",
       "      <td>buy</td>\n",
       "      <td>USD</td>\n",
       "    </tr>\n",
       "  </tbody>\n",
       "</table>\n",
       "<p>2030 rows × 4 columns</p>\n",
       "</div>"
      ],
      "text/plain": [
       "                                      industry              sector  \\\n",
       "0                            Personal Services   Consumer Cyclical   \n",
       "1                Building Products & Equipment         Industrials   \n",
       "2                                          NaN             Unknown   \n",
       "3           Scientific & Technical Instruments          Technology   \n",
       "4     Drug Manufacturers - Specialty & Generic          Healthcare   \n",
       "...                                        ...                 ...   \n",
       "2025                            Packaged Foods  Consumer Defensive   \n",
       "2026                                       NaN             Unknown   \n",
       "2027                           Medical Devices          Healthcare   \n",
       "2028  Drug Manufacturers - Specialty & Generic          Healthcare   \n",
       "2029                       Specialty Chemicals     Basic Materials   \n",
       "\n",
       "     recommendationKey financialCurrency  \n",
       "0           strong_buy               USD  \n",
       "1                  buy               USD  \n",
       "2                  NaN               NaN  \n",
       "3                 hold               USD  \n",
       "4                  buy               USD  \n",
       "...                ...               ...  \n",
       "2025              hold               USD  \n",
       "2026               NaN               NaN  \n",
       "2027               buy               USD  \n",
       "2028               buy               USD  \n",
       "2029               buy               USD  \n",
       "\n",
       "[2030 rows x 4 columns]"
      ]
     },
     "execution_count": 8,
     "metadata": {},
     "output_type": "execute_result"
    }
   ],
   "source": [
    "df.select_dtypes(include = 'O')"
   ]
  },
  {
   "cell_type": "code",
   "execution_count": 9,
   "id": "63030020",
   "metadata": {
    "execution": {
     "iopub.execute_input": "2024-03-11T10:12:06.316772Z",
     "iopub.status.busy": "2024-03-11T10:12:06.316328Z",
     "iopub.status.idle": "2024-03-11T10:12:06.326536Z",
     "shell.execute_reply": "2024-03-11T10:12:06.325339Z"
    },
    "papermill": {
     "duration": 0.022204,
     "end_time": "2024-03-11T10:12:06.328708",
     "exception": false,
     "start_time": "2024-03-11T10:12:06.306504",
     "status": "completed"
    },
    "tags": []
   },
   "outputs": [
    {
     "name": "stdout",
     "output_type": "stream",
     "text": [
      "industry unique values num: 113\n",
      "--------------------------------------------------\n",
      "sector unique values num: 10\n",
      "--------------------------------------------------\n",
      "recommendationKey unique values num: 6\n",
      "--------------------------------------------------\n",
      "financialCurrency unique values num: 2\n",
      "--------------------------------------------------\n"
     ]
    }
   ],
   "source": [
    "for col in df.select_dtypes(include = 'O'):\n",
    "    print(f'{col} unique values num: {df[col].nunique()}')\n",
    "    print('-'*50)"
   ]
  },
  {
   "cell_type": "code",
   "execution_count": 10,
   "id": "31af530f",
   "metadata": {
    "execution": {
     "iopub.execute_input": "2024-03-11T10:12:06.348596Z",
     "iopub.status.busy": "2024-03-11T10:12:06.347803Z",
     "iopub.status.idle": "2024-03-11T10:12:06.353287Z",
     "shell.execute_reply": "2024-03-11T10:12:06.352512Z"
    },
    "papermill": {
     "duration": 0.018523,
     "end_time": "2024-03-11T10:12:06.355504",
     "exception": false,
     "start_time": "2024-03-11T10:12:06.336981",
     "status": "completed"
    },
    "tags": []
   },
   "outputs": [],
   "source": [
    "def binarize(df, col):\n",
    "    uniques = list(df[col].dropna().unique())\n",
    "    df[col] = [1 if val == uniques[0] else 0 for val in df[col]]\n",
    "    return df"
   ]
  },
  {
   "cell_type": "code",
   "execution_count": 11,
   "id": "52a8f0d4",
   "metadata": {
    "execution": {
     "iopub.execute_input": "2024-03-11T10:12:06.373979Z",
     "iopub.status.busy": "2024-03-11T10:12:06.373011Z",
     "iopub.status.idle": "2024-03-11T10:12:06.378684Z",
     "shell.execute_reply": "2024-03-11T10:12:06.377957Z"
    },
    "papermill": {
     "duration": 0.016917,
     "end_time": "2024-03-11T10:12:06.380744",
     "exception": false,
     "start_time": "2024-03-11T10:12:06.363827",
     "status": "completed"
    },
    "tags": []
   },
   "outputs": [],
   "source": [
    "def one_hot_encode(df, col):\n",
    "    dummies = pd.get_dummies(df[col], prefix = col).astype(int)\n",
    "    df.drop(col, axis = 1, inplace = True)\n",
    "    df = pd.concat([df, dummies], axis = 1)\n",
    "    return df"
   ]
  },
  {
   "cell_type": "code",
   "execution_count": 12,
   "id": "6476f4aa",
   "metadata": {
    "execution": {
     "iopub.execute_input": "2024-03-11T10:12:06.400640Z",
     "iopub.status.busy": "2024-03-11T10:12:06.400229Z",
     "iopub.status.idle": "2024-03-11T10:12:06.406113Z",
     "shell.execute_reply": "2024-03-11T10:12:06.404933Z"
    },
    "papermill": {
     "duration": 0.017373,
     "end_time": "2024-03-11T10:12:06.408264",
     "exception": false,
     "start_time": "2024-03-11T10:12:06.390891",
     "status": "completed"
    },
    "tags": []
   },
   "outputs": [],
   "source": [
    "def factorize(df, col):\n",
    "    mapping = {name: ix for ix, name in enumerate(df[col].unique())}\n",
    "    df[col] = df[col].map(mapping)\n",
    "    return df"
   ]
  },
  {
   "cell_type": "code",
   "execution_count": 13,
   "id": "3ab516ee",
   "metadata": {
    "execution": {
     "iopub.execute_input": "2024-03-11T10:12:06.426367Z",
     "iopub.status.busy": "2024-03-11T10:12:06.425610Z",
     "iopub.status.idle": "2024-03-11T10:12:06.433878Z",
     "shell.execute_reply": "2024-03-11T10:12:06.432663Z"
    },
    "papermill": {
     "duration": 0.01991,
     "end_time": "2024-03-11T10:12:06.436171",
     "exception": false,
     "start_time": "2024-03-11T10:12:06.416261",
     "status": "completed"
    },
    "tags": []
   },
   "outputs": [
    {
     "name": "stdout",
     "output_type": "stream",
     "text": [
      "0    1\n",
      "1    1\n",
      "2    0\n",
      "3    1\n",
      "4    1\n",
      "Name: financialCurrency, dtype: int64\n"
     ]
    }
   ],
   "source": [
    "df = binarize(df, 'financialCurrency')\n",
    "print(df['financialCurrency'].head())"
   ]
  },
  {
   "cell_type": "code",
   "execution_count": 14,
   "id": "f0888de5",
   "metadata": {
    "execution": {
     "iopub.execute_input": "2024-03-11T10:12:06.454156Z",
     "iopub.status.busy": "2024-03-11T10:12:06.453794Z",
     "iopub.status.idle": "2024-03-11T10:12:06.485087Z",
     "shell.execute_reply": "2024-03-11T10:12:06.483834Z"
    },
    "papermill": {
     "duration": 0.043007,
     "end_time": "2024-03-11T10:12:06.487544",
     "exception": false,
     "start_time": "2024-03-11T10:12:06.444537",
     "status": "completed"
    },
    "tags": []
   },
   "outputs": [
    {
     "name": "stdout",
     "output_type": "stream",
     "text": [
      "(2030, 213)\n",
      "(2030, 227)\n"
     ]
    }
   ],
   "source": [
    "print(df.shape)\n",
    "df = one_hot_encode(df, 'sector')\n",
    "df = one_hot_encode(df, 'recommendationKey')\n",
    "print(df.shape)"
   ]
  },
  {
   "cell_type": "code",
   "execution_count": 15,
   "id": "1fd41b44",
   "metadata": {
    "execution": {
     "iopub.execute_input": "2024-03-11T10:12:06.505920Z",
     "iopub.status.busy": "2024-03-11T10:12:06.505502Z",
     "iopub.status.idle": "2024-03-11T10:12:06.513232Z",
     "shell.execute_reply": "2024-03-11T10:12:06.512493Z"
    },
    "papermill": {
     "duration": 0.019457,
     "end_time": "2024-03-11T10:12:06.515314",
     "exception": false,
     "start_time": "2024-03-11T10:12:06.495857",
     "status": "completed"
    },
    "tags": []
   },
   "outputs": [
    {
     "name": "stdout",
     "output_type": "stream",
     "text": [
      "float64    207\n",
      "int64       19\n",
      "bool         1\n",
      "Name: count, dtype: int64\n"
     ]
    }
   ],
   "source": [
    "df = factorize(df, 'industry')\n",
    "print(df.dtypes.value_counts())"
   ]
  },
  {
   "cell_type": "code",
   "execution_count": 16,
   "id": "aa60e453",
   "metadata": {
    "execution": {
     "iopub.execute_input": "2024-03-11T10:12:06.533790Z",
     "iopub.status.busy": "2024-03-11T10:12:06.533374Z",
     "iopub.status.idle": "2024-03-11T10:12:06.538398Z",
     "shell.execute_reply": "2024-03-11T10:12:06.537296Z"
    },
    "papermill": {
     "duration": 0.016732,
     "end_time": "2024-03-11T10:12:06.540391",
     "exception": false,
     "start_time": "2024-03-11T10:12:06.523659",
     "status": "completed"
    },
    "tags": []
   },
   "outputs": [],
   "source": [
    "import warnings\n",
    "warnings.simplefilter(action='ignore', category=FutureWarning)"
   ]
  },
  {
   "cell_type": "code",
   "execution_count": 17,
   "id": "641cc0a7",
   "metadata": {
    "execution": {
     "iopub.execute_input": "2024-03-11T10:12:06.559223Z",
     "iopub.status.busy": "2024-03-11T10:12:06.558627Z",
     "iopub.status.idle": "2024-03-11T10:12:06.568193Z",
     "shell.execute_reply": "2024-03-11T10:12:06.567160Z"
    },
    "papermill": {
     "duration": 0.021036,
     "end_time": "2024-03-11T10:12:06.570147",
     "exception": false,
     "start_time": "2024-03-11T10:12:06.549111",
     "status": "completed"
    },
    "tags": []
   },
   "outputs": [
    {
     "data": {
      "text/plain": [
       "Id                                  0\n",
       "industry                            0\n",
       "fullTimeEmployees                 102\n",
       "auditRisk                         625\n",
       "boardRisk                         625\n",
       "                                 ... \n",
       "recommendationKey_hold              0\n",
       "recommendationKey_none              0\n",
       "recommendationKey_sell              0\n",
       "recommendationKey_strong_buy        0\n",
       "recommendationKey_underperform      0\n",
       "Length: 227, dtype: int64"
      ]
     },
     "execution_count": 17,
     "metadata": {},
     "output_type": "execute_result"
    }
   ],
   "source": [
    "df.isnull().sum()"
   ]
  },
  {
   "cell_type": "code",
   "execution_count": 18,
   "id": "7806db4c",
   "metadata": {
    "execution": {
     "iopub.execute_input": "2024-03-11T10:12:06.588639Z",
     "iopub.status.busy": "2024-03-11T10:12:06.587999Z",
     "iopub.status.idle": "2024-03-11T10:12:06.651302Z",
     "shell.execute_reply": "2024-03-11T10:12:06.650154Z"
    },
    "papermill": {
     "duration": 0.07531,
     "end_time": "2024-03-11T10:12:06.653649",
     "exception": false,
     "start_time": "2024-03-11T10:12:06.578339",
     "status": "completed"
    },
    "tags": []
   },
   "outputs": [
    {
     "name": "stdout",
     "output_type": "stream",
     "text": [
      "Missing data stats:\n",
      "\n",
      "ncols with under 10% missing data:\t134\n",
      "ncols with 10-20% missing data:\t\t44\n",
      "ncols with 20-50% missing data:\t\t16\n",
      "ncols with over 50% missing data:\t1\n"
     ]
    }
   ],
   "source": [
    "print('Missing data stats:\\n')\n",
    "under_10_percent = 0\n",
    "ten_to_20_percent = 0\n",
    "twenty_to_50_percent = 0\n",
    "over_50_percent = 0\n",
    "for col in df:\n",
    "    if np.any(df[col].isnull()):\n",
    "        percent_missing = np.round(100*df[col].isnull().sum()/len(df),2)\n",
    "        if percent_missing < 10:\n",
    "            under_10_percent+=1\n",
    "        elif 10 <= percent_missing < 20:\n",
    "            ten_to_20_percent+=1\n",
    "        elif 20 <= percent_missing < 50:\n",
    "            twenty_to_50_percent+=1\n",
    "        else:\n",
    "            over_50_percent+=1\n",
    "print(f'ncols with under 10% missing data:\\t{under_10_percent}')\n",
    "print(f'ncols with 10-20% missing data:\\t\\t{ten_to_20_percent}')\n",
    "print(f'ncols with 20-50% missing data:\\t\\t{twenty_to_50_percent}')\n",
    "print(f'ncols with over 50% missing data:\\t{over_50_percent}')"
   ]
  },
  {
   "cell_type": "code",
   "execution_count": 19,
   "id": "140fd7b3",
   "metadata": {
    "execution": {
     "iopub.execute_input": "2024-03-11T10:12:06.672996Z",
     "iopub.status.busy": "2024-03-11T10:12:06.672575Z",
     "iopub.status.idle": "2024-03-11T10:12:06.692154Z",
     "shell.execute_reply": "2024-03-11T10:12:06.691043Z"
    },
    "papermill": {
     "duration": 0.031932,
     "end_time": "2024-03-11T10:12:06.694598",
     "exception": false,
     "start_time": "2024-03-11T10:12:06.662666",
     "status": "completed"
    },
    "tags": []
   },
   "outputs": [
    {
     "data": {
      "text/plain": [
       "17"
      ]
     },
     "execution_count": 19,
     "metadata": {},
     "output_type": "execute_result"
    }
   ],
   "source": [
    "# check if there are any inf values in data\n",
    "df[df == np.inf].count().sum()"
   ]
  },
  {
   "cell_type": "code",
   "execution_count": 20,
   "id": "3c5f04af",
   "metadata": {
    "execution": {
     "iopub.execute_input": "2024-03-11T10:12:06.713781Z",
     "iopub.status.busy": "2024-03-11T10:12:06.713101Z",
     "iopub.status.idle": "2024-03-11T10:12:06.722248Z",
     "shell.execute_reply": "2024-03-11T10:12:06.721235Z"
    },
    "papermill": {
     "duration": 0.021183,
     "end_time": "2024-03-11T10:12:06.724451",
     "exception": false,
     "start_time": "2024-03-11T10:12:06.703268",
     "status": "completed"
    },
    "tags": []
   },
   "outputs": [
    {
     "data": {
      "text/plain": [
       "Q0_TOTAL_ASSETS                 0\n",
       "Q0_TOTAL_LIABILITIES            0\n",
       "Q0_TOTAL_STOCKHOLDERS_EQUITY    0\n",
       "Q0_GROSS_PROFIT                 0\n",
       "Q0_COST_OF_REVENUES             0\n",
       "Q0_REVENUES                     0\n",
       "Q0_OPERATING_INCOME             0\n",
       "Q0_OPERATING_EXPENSES           0\n",
       "Q0_EBITDA                       0\n",
       "dtype: int64"
      ]
     },
     "execution_count": 20,
     "metadata": {},
     "output_type": "execute_result"
    }
   ],
   "source": [
    "# check for missing values in the target columns\n",
    "train[targets_names].isnull().sum()"
   ]
  },
  {
   "cell_type": "code",
   "execution_count": 21,
   "id": "e20a76c2",
   "metadata": {
    "execution": {
     "iopub.execute_input": "2024-03-11T10:12:06.744147Z",
     "iopub.status.busy": "2024-03-11T10:12:06.743753Z",
     "iopub.status.idle": "2024-03-11T10:12:06.750102Z",
     "shell.execute_reply": "2024-03-11T10:12:06.748996Z"
    },
    "papermill": {
     "duration": 0.019096,
     "end_time": "2024-03-11T10:12:06.752259",
     "exception": false,
     "start_time": "2024-03-11T10:12:06.733163",
     "status": "completed"
    },
    "tags": []
   },
   "outputs": [],
   "source": [
    "def impute_missing_by_median(df):\n",
    "    print(f'Missing values before imputation: {sum(df.isnull().sum())}')\n",
    "    # first replace inf and -inf with nan\n",
    "    df.replace([np.inf, -np.inf], np.nan, inplace=True)\n",
    "    # then impute nan by median\n",
    "    for col in df:\n",
    "        if np.any(df[col].isnull()):\n",
    "            df[col].fillna(df[col].median(), inplace = True)\n",
    "    print(f'Missing values after imputation: {sum(df.isnull().sum())}')\n",
    "    return df"
   ]
  },
  {
   "cell_type": "code",
   "execution_count": 22,
   "id": "f17de4ef",
   "metadata": {
    "execution": {
     "iopub.execute_input": "2024-03-11T10:12:06.772919Z",
     "iopub.status.busy": "2024-03-11T10:12:06.772546Z",
     "iopub.status.idle": "2024-03-11T10:12:06.981081Z",
     "shell.execute_reply": "2024-03-11T10:12:06.979856Z"
    },
    "papermill": {
     "duration": 0.220874,
     "end_time": "2024-03-11T10:12:06.983463",
     "exception": false,
     "start_time": "2024-03-11T10:12:06.762589",
     "status": "completed"
    },
    "tags": []
   },
   "outputs": [
    {
     "name": "stdout",
     "output_type": "stream",
     "text": [
      "Missing values before imputation: 28653\n",
      "Missing values after imputation: 0\n"
     ]
    }
   ],
   "source": [
    "df = impute_missing_by_median(df)"
   ]
  },
  {
   "cell_type": "code",
   "execution_count": 23,
   "id": "c347c2df",
   "metadata": {
    "execution": {
     "iopub.execute_input": "2024-03-11T10:12:07.003046Z",
     "iopub.status.busy": "2024-03-11T10:12:07.002680Z",
     "iopub.status.idle": "2024-03-11T10:12:07.020519Z",
     "shell.execute_reply": "2024-03-11T10:12:07.019294Z"
    },
    "papermill": {
     "duration": 0.030374,
     "end_time": "2024-03-11T10:12:07.022914",
     "exception": false,
     "start_time": "2024-03-11T10:12:06.992540",
     "status": "completed"
    },
    "tags": []
   },
   "outputs": [
    {
     "name": "stderr",
     "output_type": "stream",
     "text": [
      "/tmp/ipykernel_18/4229629428.py:3: SettingWithCopyWarning: \n",
      "A value is trying to be set on a copy of a slice from a DataFrame\n",
      "\n",
      "See the caveats in the documentation: https://pandas.pydata.org/pandas-docs/stable/user_guide/indexing.html#returning-a-view-versus-a-copy\n",
      "  train.drop('is_train', axis = 1, inplace=True)\n",
      "/tmp/ipykernel_18/4229629428.py:4: SettingWithCopyWarning: \n",
      "A value is trying to be set on a copy of a slice from a DataFrame\n",
      "\n",
      "See the caveats in the documentation: https://pandas.pydata.org/pandas-docs/stable/user_guide/indexing.html#returning-a-view-versus-a-copy\n",
      "  test.drop('is_train', axis = 1, inplace=True)\n",
      "/tmp/ipykernel_18/4229629428.py:7: SettingWithCopyWarning: \n",
      "A value is trying to be set on a copy of a slice from a DataFrame\n",
      "\n",
      "See the caveats in the documentation: https://pandas.pydata.org/pandas-docs/stable/user_guide/indexing.html#returning-a-view-versus-a-copy\n",
      "  test.drop(targets_names, axis = 1, inplace = True)\n",
      "/tmp/ipykernel_18/4229629428.py:9: SettingWithCopyWarning: \n",
      "A value is trying to be set on a copy of a slice from a DataFrame\n",
      "\n",
      "See the caveats in the documentation: https://pandas.pydata.org/pandas-docs/stable/user_guide/indexing.html#returning-a-view-versus-a-copy\n",
      "  train.drop(targets_names, axis = 1, inplace = True)\n"
     ]
    }
   ],
   "source": [
    "train = df[df['is_train'] == True]\n",
    "test = df[df['is_train'] == False]\n",
    "train.drop('is_train', axis = 1, inplace=True)\n",
    "test.drop('is_train', axis = 1, inplace=True)\n",
    "test.reset_index(drop = True, inplace = True)\n",
    "\n",
    "test.drop(targets_names, axis = 1, inplace = True)\n",
    "targets = train[targets_names].copy()\n",
    "train.drop(targets_names, axis = 1, inplace = True)"
   ]
  },
  {
   "cell_type": "code",
   "execution_count": 24,
   "id": "895d7587",
   "metadata": {
    "execution": {
     "iopub.execute_input": "2024-03-11T10:12:07.043986Z",
     "iopub.status.busy": "2024-03-11T10:12:07.042902Z",
     "iopub.status.idle": "2024-03-11T10:12:07.067794Z",
     "shell.execute_reply": "2024-03-11T10:12:07.066973Z"
    },
    "papermill": {
     "duration": 0.037832,
     "end_time": "2024-03-11T10:12:07.069757",
     "exception": false,
     "start_time": "2024-03-11T10:12:07.031925",
     "status": "completed"
    },
    "tags": []
   },
   "outputs": [
    {
     "data": {
      "text/html": [
       "<div>\n",
       "<style scoped>\n",
       "    .dataframe tbody tr th:only-of-type {\n",
       "        vertical-align: middle;\n",
       "    }\n",
       "\n",
       "    .dataframe tbody tr th {\n",
       "        vertical-align: top;\n",
       "    }\n",
       "\n",
       "    .dataframe thead th {\n",
       "        text-align: right;\n",
       "    }\n",
       "</style>\n",
       "<table border=\"1\" class=\"dataframe\">\n",
       "  <thead>\n",
       "    <tr style=\"text-align: right;\">\n",
       "      <th></th>\n",
       "      <th>Q0_TOTAL_ASSETS</th>\n",
       "      <th>Q0_TOTAL_LIABILITIES</th>\n",
       "      <th>Q0_TOTAL_STOCKHOLDERS_EQUITY</th>\n",
       "      <th>Q0_GROSS_PROFIT</th>\n",
       "      <th>Q0_COST_OF_REVENUES</th>\n",
       "      <th>Q0_REVENUES</th>\n",
       "      <th>Q0_OPERATING_INCOME</th>\n",
       "      <th>Q0_OPERATING_EXPENSES</th>\n",
       "      <th>Q0_EBITDA</th>\n",
       "    </tr>\n",
       "  </thead>\n",
       "  <tbody>\n",
       "    <tr>\n",
       "      <th>0</th>\n",
       "      <td>1.192950e+09</td>\n",
       "      <td>1.055816e+09</td>\n",
       "      <td>1.371340e+08</td>\n",
       "      <td>25598000.0</td>\n",
       "      <td>6.189900e+07</td>\n",
       "      <td>4.299200e+07</td>\n",
       "      <td>1.522200e+07</td>\n",
       "      <td>10383000.0</td>\n",
       "      <td>15215000.0</td>\n",
       "    </tr>\n",
       "    <tr>\n",
       "      <th>1</th>\n",
       "      <td>1.219954e+09</td>\n",
       "      <td>8.350460e+08</td>\n",
       "      <td>3.849080e+08</td>\n",
       "      <td>111786000.0</td>\n",
       "      <td>2.177960e+08</td>\n",
       "      <td>3.295820e+08</td>\n",
       "      <td>2.890800e+07</td>\n",
       "      <td>85522000.0</td>\n",
       "      <td>26264000.0</td>\n",
       "    </tr>\n",
       "    <tr>\n",
       "      <th>2</th>\n",
       "      <td>-1.358200e+11</td>\n",
       "      <td>-3.797200e+10</td>\n",
       "      <td>-9.784800e+10</td>\n",
       "      <td>-435000000.0</td>\n",
       "      <td>4.445000e+09</td>\n",
       "      <td>4.010000e+09</td>\n",
       "      <td>-1.472000e+09</td>\n",
       "      <td>219000000.0</td>\n",
       "      <td>-654000000.0</td>\n",
       "    </tr>\n",
       "    <tr>\n",
       "      <th>3</th>\n",
       "      <td>8.329800e+07</td>\n",
       "      <td>1.604000e+07</td>\n",
       "      <td>-3.163300e+07</td>\n",
       "      <td>494000.0</td>\n",
       "      <td>3.339000e+06</td>\n",
       "      <td>3.833000e+06</td>\n",
       "      <td>-1.234800e+07</td>\n",
       "      <td>12842000.0</td>\n",
       "      <td>-12348000.0</td>\n",
       "    </tr>\n",
       "    <tr>\n",
       "      <th>4</th>\n",
       "      <td>1.485460e+08</td>\n",
       "      <td>5.655500e+07</td>\n",
       "      <td>9.199100e+07</td>\n",
       "      <td>1761000.0</td>\n",
       "      <td>-2.375000e+06</td>\n",
       "      <td>-6.140000e+05</td>\n",
       "      <td>-1.009800e+07</td>\n",
       "      <td>11859000.0</td>\n",
       "      <td>-10098000.0</td>\n",
       "    </tr>\n",
       "    <tr>\n",
       "      <th>...</th>\n",
       "      <td>...</td>\n",
       "      <td>...</td>\n",
       "      <td>...</td>\n",
       "      <td>...</td>\n",
       "      <td>...</td>\n",
       "      <td>...</td>\n",
       "      <td>...</td>\n",
       "      <td>...</td>\n",
       "      <td>...</td>\n",
       "    </tr>\n",
       "    <tr>\n",
       "      <th>1619</th>\n",
       "      <td>3.539600e+08</td>\n",
       "      <td>1.997590e+08</td>\n",
       "      <td>1.542010e+08</td>\n",
       "      <td>48741000.0</td>\n",
       "      <td>4.569300e+07</td>\n",
       "      <td>9.443400e+07</td>\n",
       "      <td>2.616000e+06</td>\n",
       "      <td>46125000.0</td>\n",
       "      <td>2616000.0</td>\n",
       "    </tr>\n",
       "    <tr>\n",
       "      <th>1620</th>\n",
       "      <td>1.061530e+08</td>\n",
       "      <td>3.949300e+07</td>\n",
       "      <td>6.811700e+07</td>\n",
       "      <td>1077000.0</td>\n",
       "      <td>1.690000e+05</td>\n",
       "      <td>1.246000e+06</td>\n",
       "      <td>-6.705000e+06</td>\n",
       "      <td>7782000.0</td>\n",
       "      <td>-6705000.0</td>\n",
       "    </tr>\n",
       "    <tr>\n",
       "      <th>1621</th>\n",
       "      <td>5.203150e+08</td>\n",
       "      <td>3.807960e+08</td>\n",
       "      <td>3.233080e+08</td>\n",
       "      <td>27808000.0</td>\n",
       "      <td>1.123840e+08</td>\n",
       "      <td>1.401920e+08</td>\n",
       "      <td>7.061000e+06</td>\n",
       "      <td>9417000.0</td>\n",
       "      <td>18391000.0</td>\n",
       "    </tr>\n",
       "    <tr>\n",
       "      <th>1622</th>\n",
       "      <td>1.997210e+08</td>\n",
       "      <td>2.692100e+07</td>\n",
       "      <td>1.728000e+08</td>\n",
       "      <td>0.0</td>\n",
       "      <td>0.000000e+00</td>\n",
       "      <td>0.000000e+00</td>\n",
       "      <td>-3.391900e+07</td>\n",
       "      <td>33919000.0</td>\n",
       "      <td>-33919000.0</td>\n",
       "    </tr>\n",
       "    <tr>\n",
       "      <th>1623</th>\n",
       "      <td>1.333626e+10</td>\n",
       "      <td>1.504531e+10</td>\n",
       "      <td>-8.217640e+08</td>\n",
       "      <td>394720000.0</td>\n",
       "      <td>5.777330e+08</td>\n",
       "      <td>9.724530e+08</td>\n",
       "      <td>6.259500e+07</td>\n",
       "      <td>268445000.0</td>\n",
       "      <td>126275000.0</td>\n",
       "    </tr>\n",
       "  </tbody>\n",
       "</table>\n",
       "<p>1624 rows × 9 columns</p>\n",
       "</div>"
      ],
      "text/plain": [
       "      Q0_TOTAL_ASSETS  Q0_TOTAL_LIABILITIES  Q0_TOTAL_STOCKHOLDERS_EQUITY  \\\n",
       "0        1.192950e+09          1.055816e+09                  1.371340e+08   \n",
       "1        1.219954e+09          8.350460e+08                  3.849080e+08   \n",
       "2       -1.358200e+11         -3.797200e+10                 -9.784800e+10   \n",
       "3        8.329800e+07          1.604000e+07                 -3.163300e+07   \n",
       "4        1.485460e+08          5.655500e+07                  9.199100e+07   \n",
       "...               ...                   ...                           ...   \n",
       "1619     3.539600e+08          1.997590e+08                  1.542010e+08   \n",
       "1620     1.061530e+08          3.949300e+07                  6.811700e+07   \n",
       "1621     5.203150e+08          3.807960e+08                  3.233080e+08   \n",
       "1622     1.997210e+08          2.692100e+07                  1.728000e+08   \n",
       "1623     1.333626e+10          1.504531e+10                 -8.217640e+08   \n",
       "\n",
       "      Q0_GROSS_PROFIT  Q0_COST_OF_REVENUES   Q0_REVENUES  Q0_OPERATING_INCOME  \\\n",
       "0          25598000.0         6.189900e+07  4.299200e+07         1.522200e+07   \n",
       "1         111786000.0         2.177960e+08  3.295820e+08         2.890800e+07   \n",
       "2        -435000000.0         4.445000e+09  4.010000e+09        -1.472000e+09   \n",
       "3            494000.0         3.339000e+06  3.833000e+06        -1.234800e+07   \n",
       "4           1761000.0        -2.375000e+06 -6.140000e+05        -1.009800e+07   \n",
       "...               ...                  ...           ...                  ...   \n",
       "1619       48741000.0         4.569300e+07  9.443400e+07         2.616000e+06   \n",
       "1620        1077000.0         1.690000e+05  1.246000e+06        -6.705000e+06   \n",
       "1621       27808000.0         1.123840e+08  1.401920e+08         7.061000e+06   \n",
       "1622              0.0         0.000000e+00  0.000000e+00        -3.391900e+07   \n",
       "1623      394720000.0         5.777330e+08  9.724530e+08         6.259500e+07   \n",
       "\n",
       "      Q0_OPERATING_EXPENSES    Q0_EBITDA  \n",
       "0                10383000.0   15215000.0  \n",
       "1                85522000.0   26264000.0  \n",
       "2               219000000.0 -654000000.0  \n",
       "3                12842000.0  -12348000.0  \n",
       "4                11859000.0  -10098000.0  \n",
       "...                     ...          ...  \n",
       "1619             46125000.0    2616000.0  \n",
       "1620              7782000.0   -6705000.0  \n",
       "1621              9417000.0   18391000.0  \n",
       "1622             33919000.0  -33919000.0  \n",
       "1623            268445000.0  126275000.0  \n",
       "\n",
       "[1624 rows x 9 columns]"
      ]
     },
     "execution_count": 24,
     "metadata": {},
     "output_type": "execute_result"
    }
   ],
   "source": [
    "targets"
   ]
  },
  {
   "cell_type": "code",
   "execution_count": 25,
   "id": "cf617841",
   "metadata": {
    "execution": {
     "iopub.execute_input": "2024-03-11T10:12:07.090859Z",
     "iopub.status.busy": "2024-03-11T10:12:07.089873Z",
     "iopub.status.idle": "2024-03-11T10:12:07.095025Z",
     "shell.execute_reply": "2024-03-11T10:12:07.093771Z"
    },
    "papermill": {
     "duration": 0.018366,
     "end_time": "2024-03-11T10:12:07.097512",
     "exception": false,
     "start_time": "2024-03-11T10:12:07.079146",
     "status": "completed"
    },
    "tags": []
   },
   "outputs": [],
   "source": [
    "model = XGBRegressor()"
   ]
  },
  {
   "cell_type": "code",
   "execution_count": 26,
   "id": "18e95ea9",
   "metadata": {
    "execution": {
     "iopub.execute_input": "2024-03-11T10:12:07.119310Z",
     "iopub.status.busy": "2024-03-11T10:12:07.118611Z",
     "iopub.status.idle": "2024-03-11T10:13:08.733218Z",
     "shell.execute_reply": "2024-03-11T10:13:08.732170Z"
    },
    "papermill": {
     "duration": 61.628431,
     "end_time": "2024-03-11T10:13:08.735708",
     "exception": false,
     "start_time": "2024-03-11T10:12:07.107277",
     "status": "completed"
    },
    "tags": []
   },
   "outputs": [
    {
     "name": "stdout",
     "output_type": "stream",
     "text": [
      "Cross validation R2 scores for each target:\n",
      "\n",
      "Q0_TOTAL_ASSETS -> 0.62\n",
      "Q0_TOTAL_LIABILITIES -> 0.4\n",
      "Q0_TOTAL_STOCKHOLDERS_EQUITY -> 0.87\n",
      "Q0_GROSS_PROFIT -> 0.73\n",
      "Q0_COST_OF_REVENUES -> 0.83\n",
      "Q0_REVENUES -> 0.9\n",
      "Q0_OPERATING_INCOME -> 0.72\n",
      "Q0_OPERATING_EXPENSES -> 0.76\n",
      "Q0_EBITDA -> -0.42\n",
      "\n",
      "Mean R2 score across all targets: 0.6011111111111112\n"
     ]
    }
   ],
   "source": [
    "print('Cross validation R2 scores for each target:\\n')\n",
    "cross_val_score_results = {}\n",
    "for target in targets:\n",
    "    score = np.round(np.mean(cvs(model, train, targets[target], cv=3, scoring='r2')),2)\n",
    "    cross_val_score_results[target] = score\n",
    "    print(f'{target} -> {score}')\n",
    "print(f'\\nMean R2 score across all targets: {np.mean(list(cross_val_score_results.values()))}')"
   ]
  },
  {
   "cell_type": "code",
   "execution_count": 27,
   "id": "338c889e",
   "metadata": {
    "execution": {
     "iopub.execute_input": "2024-03-11T10:13:08.758419Z",
     "iopub.status.busy": "2024-03-11T10:13:08.757350Z",
     "iopub.status.idle": "2024-03-11T10:13:29.407126Z",
     "shell.execute_reply": "2024-03-11T10:13:29.406121Z"
    },
    "papermill": {
     "duration": 20.663352,
     "end_time": "2024-03-11T10:13:29.409393",
     "exception": false,
     "start_time": "2024-03-11T10:13:08.746041",
     "status": "completed"
    },
    "tags": []
   },
   "outputs": [
    {
     "name": "stdout",
     "output_type": "stream",
     "text": [
      "Finished train/predict for: Q0_TOTAL_ASSETS\n",
      "Finished train/predict for: Q0_TOTAL_LIABILITIES\n",
      "Finished train/predict for: Q0_TOTAL_STOCKHOLDERS_EQUITY\n",
      "Finished train/predict for: Q0_GROSS_PROFIT\n",
      "Finished train/predict for: Q0_COST_OF_REVENUES\n",
      "Finished train/predict for: Q0_REVENUES\n",
      "Finished train/predict for: Q0_OPERATING_INCOME\n",
      "Finished train/predict for: Q0_OPERATING_EXPENSES\n",
      "Finished train/predict for: Q0_EBITDA\n"
     ]
    }
   ],
   "source": [
    "preds = {}\n",
    "for target in targets:\n",
    "    model.fit(train, targets[target])\n",
    "    pred = model.predict(test)\n",
    "    preds[target] = pred\n",
    "    print(f'Finished train/predict for: {target}')"
   ]
  },
  {
   "cell_type": "code",
   "execution_count": 28,
   "id": "23999d4e",
   "metadata": {
    "execution": {
     "iopub.execute_input": "2024-03-11T10:13:29.433277Z",
     "iopub.status.busy": "2024-03-11T10:13:29.432318Z",
     "iopub.status.idle": "2024-03-11T10:13:29.444544Z",
     "shell.execute_reply": "2024-03-11T10:13:29.443648Z"
    },
    "papermill": {
     "duration": 0.026314,
     "end_time": "2024-03-11T10:13:29.446806",
     "exception": false,
     "start_time": "2024-03-11T10:13:29.420492",
     "status": "completed"
    },
    "tags": []
   },
   "outputs": [],
   "source": [
    "sub = pd.read_csv('/kaggle/input/financial-performance-prediction/sample_submission.csv')"
   ]
  },
  {
   "cell_type": "code",
   "execution_count": 29,
   "id": "3446ceda",
   "metadata": {
    "execution": {
     "iopub.execute_input": "2024-03-11T10:13:29.469697Z",
     "iopub.status.busy": "2024-03-11T10:13:29.469283Z",
     "iopub.status.idle": "2024-03-11T10:13:29.477437Z",
     "shell.execute_reply": "2024-03-11T10:13:29.476466Z"
    },
    "papermill": {
     "duration": 0.02205,
     "end_time": "2024-03-11T10:13:29.479560",
     "exception": false,
     "start_time": "2024-03-11T10:13:29.457510",
     "status": "completed"
    },
    "tags": []
   },
   "outputs": [
    {
     "data": {
      "text/plain": [
       "0      True\n",
       "1      True\n",
       "2      True\n",
       "3      True\n",
       "4      True\n",
       "       ... \n",
       "401    True\n",
       "402    True\n",
       "403    True\n",
       "404    True\n",
       "405    True\n",
       "Name: Id, Length: 406, dtype: bool"
      ]
     },
     "execution_count": 29,
     "metadata": {},
     "output_type": "execute_result"
    }
   ],
   "source": [
    "# sanity check\n",
    "sub.Id == test.Id"
   ]
  },
  {
   "cell_type": "code",
   "execution_count": 30,
   "id": "75c4de4c",
   "metadata": {
    "execution": {
     "iopub.execute_input": "2024-03-11T10:13:29.509732Z",
     "iopub.status.busy": "2024-03-11T10:13:29.508377Z",
     "iopub.status.idle": "2024-03-11T10:13:29.530982Z",
     "shell.execute_reply": "2024-03-11T10:13:29.530055Z"
    },
    "papermill": {
     "duration": 0.041532,
     "end_time": "2024-03-11T10:13:29.534366",
     "exception": false,
     "start_time": "2024-03-11T10:13:29.492834",
     "status": "completed"
    },
    "tags": []
   },
   "outputs": [
    {
     "data": {
      "text/html": [
       "<div>\n",
       "<style scoped>\n",
       "    .dataframe tbody tr th:only-of-type {\n",
       "        vertical-align: middle;\n",
       "    }\n",
       "\n",
       "    .dataframe tbody tr th {\n",
       "        vertical-align: top;\n",
       "    }\n",
       "\n",
       "    .dataframe thead th {\n",
       "        text-align: right;\n",
       "    }\n",
       "</style>\n",
       "<table border=\"1\" class=\"dataframe\">\n",
       "  <thead>\n",
       "    <tr style=\"text-align: right;\">\n",
       "      <th></th>\n",
       "      <th>Id</th>\n",
       "      <th>Q0_REVENUES</th>\n",
       "      <th>Q0_COST_OF_REVENUES</th>\n",
       "      <th>Q0_GROSS_PROFIT</th>\n",
       "      <th>Q0_OPERATING_EXPENSES</th>\n",
       "      <th>Q0_EBITDA</th>\n",
       "      <th>Q0_OPERATING_INCOME</th>\n",
       "      <th>Q0_TOTAL_ASSETS</th>\n",
       "      <th>Q0_TOTAL_LIABILITIES</th>\n",
       "      <th>Q0_TOTAL_STOCKHOLDERS_EQUITY</th>\n",
       "    </tr>\n",
       "  </thead>\n",
       "  <tbody>\n",
       "    <tr>\n",
       "      <th>0</th>\n",
       "      <td>480</td>\n",
       "      <td>-1.211120e+06</td>\n",
       "      <td>-3.895045e+05</td>\n",
       "      <td>-5.017264e+04</td>\n",
       "      <td>-7.105477e+05</td>\n",
       "      <td>-1.565854e+06</td>\n",
       "      <td>-1.995759e+06</td>\n",
       "      <td>-2.966194e+07</td>\n",
       "      <td>-1.779459e+06</td>\n",
       "      <td>4.574116e+05</td>\n",
       "    </tr>\n",
       "    <tr>\n",
       "      <th>1</th>\n",
       "      <td>573</td>\n",
       "      <td>5.949692e+08</td>\n",
       "      <td>3.356995e+08</td>\n",
       "      <td>1.815985e+08</td>\n",
       "      <td>1.065167e+08</td>\n",
       "      <td>1.317824e+08</td>\n",
       "      <td>4.421544e+07</td>\n",
       "      <td>3.533268e+09</td>\n",
       "      <td>1.871350e+09</td>\n",
       "      <td>5.346400e+08</td>\n",
       "    </tr>\n",
       "    <tr>\n",
       "      <th>2</th>\n",
       "      <td>1967</td>\n",
       "      <td>-1.272589e+06</td>\n",
       "      <td>1.030028e+07</td>\n",
       "      <td>-6.526061e+05</td>\n",
       "      <td>4.120479e+06</td>\n",
       "      <td>-6.113872e+06</td>\n",
       "      <td>-5.567920e+06</td>\n",
       "      <td>5.888865e+07</td>\n",
       "      <td>2.424615e+07</td>\n",
       "      <td>1.971546e+06</td>\n",
       "    </tr>\n",
       "    <tr>\n",
       "      <th>3</th>\n",
       "      <td>57</td>\n",
       "      <td>4.606910e+08</td>\n",
       "      <td>2.904094e+08</td>\n",
       "      <td>1.891734e+08</td>\n",
       "      <td>7.999364e+07</td>\n",
       "      <td>6.343608e+07</td>\n",
       "      <td>6.295966e+07</td>\n",
       "      <td>6.022530e+09</td>\n",
       "      <td>2.713045e+09</td>\n",
       "      <td>3.356197e+09</td>\n",
       "    </tr>\n",
       "    <tr>\n",
       "      <th>4</th>\n",
       "      <td>131</td>\n",
       "      <td>9.713140e+08</td>\n",
       "      <td>8.411632e+08</td>\n",
       "      <td>1.933180e+08</td>\n",
       "      <td>8.722598e+07</td>\n",
       "      <td>1.275100e+08</td>\n",
       "      <td>1.266720e+08</td>\n",
       "      <td>4.397583e+09</td>\n",
       "      <td>2.879660e+09</td>\n",
       "      <td>1.119394e+09</td>\n",
       "    </tr>\n",
       "  </tbody>\n",
       "</table>\n",
       "</div>"
      ],
      "text/plain": [
       "     Id   Q0_REVENUES  Q0_COST_OF_REVENUES  Q0_GROSS_PROFIT  \\\n",
       "0   480 -1.211120e+06        -3.895045e+05    -5.017264e+04   \n",
       "1   573  5.949692e+08         3.356995e+08     1.815985e+08   \n",
       "2  1967 -1.272589e+06         1.030028e+07    -6.526061e+05   \n",
       "3    57  4.606910e+08         2.904094e+08     1.891734e+08   \n",
       "4   131  9.713140e+08         8.411632e+08     1.933180e+08   \n",
       "\n",
       "   Q0_OPERATING_EXPENSES     Q0_EBITDA  Q0_OPERATING_INCOME  Q0_TOTAL_ASSETS  \\\n",
       "0          -7.105477e+05 -1.565854e+06        -1.995759e+06    -2.966194e+07   \n",
       "1           1.065167e+08  1.317824e+08         4.421544e+07     3.533268e+09   \n",
       "2           4.120479e+06 -6.113872e+06        -5.567920e+06     5.888865e+07   \n",
       "3           7.999364e+07  6.343608e+07         6.295966e+07     6.022530e+09   \n",
       "4           8.722598e+07  1.275100e+08         1.266720e+08     4.397583e+09   \n",
       "\n",
       "   Q0_TOTAL_LIABILITIES  Q0_TOTAL_STOCKHOLDERS_EQUITY  \n",
       "0         -1.779459e+06                  4.574116e+05  \n",
       "1          1.871350e+09                  5.346400e+08  \n",
       "2          2.424615e+07                  1.971546e+06  \n",
       "3          2.713045e+09                  3.356197e+09  \n",
       "4          2.879660e+09                  1.119394e+09  "
      ]
     },
     "execution_count": 30,
     "metadata": {},
     "output_type": "execute_result"
    }
   ],
   "source": [
    "for target in preds:\n",
    "    sub[target] = preds[target]\n",
    "sub.head()"
   ]
  },
  {
   "cell_type": "code",
   "execution_count": 31,
   "id": "1e78d64a",
   "metadata": {
    "execution": {
     "iopub.execute_input": "2024-03-11T10:13:29.563128Z",
     "iopub.status.busy": "2024-03-11T10:13:29.562652Z",
     "iopub.status.idle": "2024-03-11T10:13:29.576283Z",
     "shell.execute_reply": "2024-03-11T10:13:29.575492Z"
    },
    "papermill": {
     "duration": 0.030358,
     "end_time": "2024-03-11T10:13:29.578607",
     "exception": false,
     "start_time": "2024-03-11T10:13:29.548249",
     "status": "completed"
    },
    "tags": []
   },
   "outputs": [],
   "source": [
    "sub.to_csv('submission.csv', index = False)"
   ]
  },
  {
   "cell_type": "code",
   "execution_count": null,
   "id": "d0406cbe",
   "metadata": {
    "papermill": {
     "duration": 0.01081,
     "end_time": "2024-03-11T10:13:29.600560",
     "exception": false,
     "start_time": "2024-03-11T10:13:29.589750",
     "status": "completed"
    },
    "tags": []
   },
   "outputs": [],
   "source": []
  }
 ],
 "metadata": {
  "kaggle": {
   "accelerator": "none",
   "dataSources": [
    {
     "databundleVersionId": 7733789,
     "sourceId": 70781,
     "sourceType": "competition"
    }
   ],
   "dockerImageVersionId": 30664,
   "isGpuEnabled": false,
   "isInternetEnabled": true,
   "language": "python",
   "sourceType": "notebook"
  },
  "kernelspec": {
   "display_name": "Python 3",
   "language": "python",
   "name": "python3"
  },
  "language_info": {
   "codemirror_mode": {
    "name": "ipython",
    "version": 3
   },
   "file_extension": ".py",
   "mimetype": "text/x-python",
   "name": "python",
   "nbconvert_exporter": "python",
   "pygments_lexer": "ipython3",
   "version": "3.10.13"
  },
  "papermill": {
   "default_parameters": {},
   "duration": 89.480985,
   "end_time": "2024-03-11T10:13:30.232685",
   "environment_variables": {},
   "exception": null,
   "input_path": "__notebook__.ipynb",
   "output_path": "__notebook__.ipynb",
   "parameters": {},
   "start_time": "2024-03-11T10:12:00.751700",
   "version": "2.5.0"
  }
 },
 "nbformat": 4,
 "nbformat_minor": 5
}
